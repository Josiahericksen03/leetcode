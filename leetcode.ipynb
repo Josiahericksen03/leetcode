{
 "cells": [
  {
   "cell_type": "code",
   "execution_count": null,
   "metadata": {},
   "outputs": [],
   "source": [
    "'''VALID SUDOKU'''\n",
    "class Solution:\n",
    "    def isValidSudoku(self, board: List[List[str]]) -> bool:\n",
    "        cols = collections.defaultdict(set)\n",
    "        rows = collections.defaultdict(set)\n",
    "        squares = collections.defaultdict(set) #key = (r/3, c/3)\n",
    "        #create a set for rows, cols, and the key above is how we can\n",
    "        #mathematically see if a given square already has the number\n",
    "\n",
    "        for r in range(9):\n",
    "            for c in range(9):\n",
    "                if board[r][c] == \".\":\n",
    "                    continue\n",
    "                #obv, loop thru row and col and if nothing there yet cont\n",
    "                if (board[r][c] in rows[r] or \n",
    "                    board[r][c] in cols[c] or\n",
    "                    board[r][c] in squares[(r//3, c//3)]):\n",
    "                    return False\n",
    "                #if number added is in that row, col, or that square\n",
    "                #(this is just the syntax of saying that), then return 0\n",
    "                cols[c].add(board[r][c])\n",
    "                rows[r].add(board[r][c])\n",
    "                squares[(r//3, c//3)].add(board[r][c])\n",
    "                #if not add it to the set.\n",
    "        return True\n",
    "#note for remembering: this is like has duplicates in a way, just has\n",
    "# a section for rows, cols, and the squares, other than that it is pretty ez\n"
   ]
  },
  {
   "cell_type": "code",
   "execution_count": null,
   "metadata": {},
   "outputs": [],
   "source": [
    "'''LONGEST CONSECUTIVE SEQUENCE'''\n",
    "class Solution:\n",
    "    def longestConsecutive(self, nums: List[int]) -> int:\n",
    "        numSet = set(nums)\n",
    "        longest = 0\n",
    "\n",
    "        for n in nums:\n",
    "            #check if it is the start of a sequence\n",
    "            if(n -1) not in numSet:\n",
    "                #if n-1 not in set, then has to be start\n",
    "                length = 0\n",
    "                while (n + length) in numSet:\n",
    "                    #while n+1, n+2, etc until length limit of set, it grows\n",
    "                    length += 1\n",
    "                longest = max(length, longest)\n",
    "                #^same as if length longer than longest, longest = length\n",
    "\n",
    "        return longest"
   ]
  },
  {
   "cell_type": "code",
   "execution_count": null,
   "metadata": {},
   "outputs": [],
   "source": [
    "'''IS PALINDROME'''\n",
    "class Solution:\n",
    "    def isPalindrome(self, s: str) -> bool:\n",
    "        l,r = 0, len(s) - 1\n",
    "\n",
    "        while l < r:\n",
    "            while l < r and not s[l].isalnum():\n",
    "                l += 1\n",
    "            while r > l and not s[r].isalnum():\n",
    "                r -= 1\n",
    "            if s[l].lower() != s[r].lower():\n",
    "                return False\n",
    "            l, r = l + 1, r - 1\n",
    "        return True\n"
   ]
  },
  {
   "cell_type": "code",
   "execution_count": null,
   "metadata": {},
   "outputs": [],
   "source": [
    "'''TWO SUM 2 POINTERS'''\n",
    "class Solution:\n",
    "    def twoSum(self, numbers: List[int], target: int) -> List[int]:\n",
    "        l, r = 0, len(numbers) - 1\n",
    "\n",
    "        while l < r:\n",
    "            currSum = numbers[l] + numbers[r]\n",
    "\n",
    "            if currSum < target:\n",
    "                l = l + 1\n",
    "            elif currSum > target:\n",
    "                r = r - 1\n",
    "            else:\n",
    "                return[l + 1, r + 1]\n",
    "        return []"
   ]
  }
 ],
 "metadata": {
  "kernelspec": {
   "display_name": "Python 3",
   "language": "python",
   "name": "python3"
  },
  "language_info": {
   "name": "python",
   "version": "3.11.5"
  }
 },
 "nbformat": 4,
 "nbformat_minor": 2
}
