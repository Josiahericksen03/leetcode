{
 "cells": [
  {
   "cell_type": "code",
   "execution_count": null,
   "metadata": {},
   "outputs": [],
   "source": [
    "'''VALID SUDOKU'''\n",
    "class Solution:\n",
    "    def isValidSudoku(self, board: List[List[str]]) -> bool:\n",
    "        cols = collections.defaultdict(set)\n",
    "        rows = collections.defaultdict(set)\n",
    "        squares = collections.defaultdict(set) #key = (r/3, c/3)\n",
    "        #create a set for rows, cols, and the key above is how we can\n",
    "        #mathematically see if a given square already has the number\n",
    "\n",
    "        for r in range(9):\n",
    "            for c in range(9):\n",
    "                if board[r][c] == \".\":\n",
    "                    continue\n",
    "                #obv, loop thru row and col and if nothing there yet cont\n",
    "                if (board[r][c] in rows[r] or \n",
    "                    board[r][c] in cols[c] or\n",
    "                    board[r][c] in squares[(r//3, c//3)]):\n",
    "                    return False\n",
    "                #if number added is in that row, col, or that square\n",
    "                #(this is just the syntax of saying that), then return 0\n",
    "                cols[c].add(board[r][c])\n",
    "                rows[r].add(board[r][c])\n",
    "                squares[(r//3, c//3)].add(board[r][c])\n",
    "                #if not add it to the set.\n",
    "        return True\n",
    "#note for remembering: this is like has duplicates in a way, just has\n",
    "# a section for rows, cols, and the squares, other than that it is pretty ez\n"
   ]
  }
 ],
 "metadata": {
  "kernelspec": {
   "display_name": "Python 3",
   "language": "python",
   "name": "python3"
  },
  "language_info": {
   "name": "python",
   "version": "3.11.5"
  }
 },
 "nbformat": 4,
 "nbformat_minor": 2
}
